{
 "cells": [
  {
   "cell_type": "code",
   "execution_count": 1,
   "metadata": {},
   "outputs": [
    {
     "name": "stdout",
     "output_type": "stream",
     "text": [
      "Requirement already satisfied: helloworld in c:\\users\\lg\\appdata\\local\\packages\\pythonsoftwarefoundation.python.3.11_qbz5n2kfra8p0\\localcache\\local-packages\\python311\\site-packages (0.1.dev0)\n",
      "Requirement already satisfied: Pylons>=1.0 in c:\\users\\lg\\appdata\\local\\packages\\pythonsoftwarefoundation.python.3.11_qbz5n2kfra8p0\\localcache\\local-packages\\python311\\site-packages (from helloworld) (1.0.3)\n",
      "Requirement already satisfied: Routes>=1.12.3 in c:\\users\\lg\\appdata\\local\\packages\\pythonsoftwarefoundation.python.3.11_qbz5n2kfra8p0\\localcache\\local-packages\\python311\\site-packages (from Pylons>=1.0->helloworld) (2.5.1)\n",
      "Requirement already satisfied: WebHelpers>=0.6.4 in c:\\users\\lg\\appdata\\local\\packages\\pythonsoftwarefoundation.python.3.11_qbz5n2kfra8p0\\localcache\\local-packages\\python311\\site-packages (from Pylons>=1.0->helloworld) (1.3)\n",
      "Requirement already satisfied: Beaker>=1.5.4 in c:\\users\\lg\\appdata\\local\\packages\\pythonsoftwarefoundation.python.3.11_qbz5n2kfra8p0\\localcache\\local-packages\\python311\\site-packages (from Pylons>=1.0->helloworld) (1.13.0)\n",
      "Requirement already satisfied: Paste>=1.7.5.1 in c:\\users\\lg\\appdata\\local\\packages\\pythonsoftwarefoundation.python.3.11_qbz5n2kfra8p0\\localcache\\local-packages\\python311\\site-packages (from Pylons>=1.0->helloworld) (3.10.1)\n",
      "Requirement already satisfied: PasteDeploy>=1.5.0 in c:\\users\\lg\\appdata\\local\\packages\\pythonsoftwarefoundation.python.3.11_qbz5n2kfra8p0\\localcache\\local-packages\\python311\\site-packages (from Pylons>=1.0->helloworld) (3.1.0)\n",
      "Requirement already satisfied: PasteScript>=1.7.4.2 in c:\\users\\lg\\appdata\\local\\packages\\pythonsoftwarefoundation.python.3.11_qbz5n2kfra8p0\\localcache\\local-packages\\python311\\site-packages (from Pylons>=1.0->helloworld) (3.6.0)\n",
      "Requirement already satisfied: FormEncode>=1.2.4 in c:\\users\\lg\\appdata\\local\\packages\\pythonsoftwarefoundation.python.3.11_qbz5n2kfra8p0\\localcache\\local-packages\\python311\\site-packages (from Pylons>=1.0->helloworld) (2.1.0)\n",
      "Requirement already satisfied: simplejson>=2.2.1 in c:\\users\\lg\\appdata\\local\\packages\\pythonsoftwarefoundation.python.3.11_qbz5n2kfra8p0\\localcache\\local-packages\\python311\\site-packages (from Pylons>=1.0->helloworld) (3.19.3)\n",
      "Requirement already satisfied: decorator>=3.3.2 in c:\\users\\lg\\appdata\\local\\packages\\pythonsoftwarefoundation.python.3.11_qbz5n2kfra8p0\\localcache\\local-packages\\python311\\site-packages (from Pylons>=1.0->helloworld) (5.1.1)\n",
      "Requirement already satisfied: nose>=1.1.2 in c:\\users\\lg\\appdata\\local\\packages\\pythonsoftwarefoundation.python.3.11_qbz5n2kfra8p0\\localcache\\local-packages\\python311\\site-packages (from Pylons>=1.0->helloworld) (1.3.7)\n",
      "Requirement already satisfied: Mako>=0.5.0 in c:\\users\\lg\\appdata\\local\\packages\\pythonsoftwarefoundation.python.3.11_qbz5n2kfra8p0\\localcache\\local-packages\\python311\\site-packages (from Pylons>=1.0->helloworld) (1.3.8)\n",
      "Requirement already satisfied: WebError>=0.10.3 in c:\\users\\lg\\appdata\\local\\packages\\pythonsoftwarefoundation.python.3.11_qbz5n2kfra8p0\\localcache\\local-packages\\python311\\site-packages (from Pylons>=1.0->helloworld) (0.13.1)\n",
      "Requirement already satisfied: WebTest>=1.3.1 in c:\\users\\lg\\appdata\\local\\packages\\pythonsoftwarefoundation.python.3.11_qbz5n2kfra8p0\\localcache\\local-packages\\python311\\site-packages (from Pylons>=1.0->helloworld) (3.0.2)\n",
      "Requirement already satisfied: Tempita>=0.5.1 in c:\\users\\lg\\appdata\\local\\packages\\pythonsoftwarefoundation.python.3.11_qbz5n2kfra8p0\\localcache\\local-packages\\python311\\site-packages (from Pylons>=1.0->helloworld) (0.6.0)\n",
      "Requirement already satisfied: MarkupSafe>=0.15 in c:\\users\\lg\\appdata\\local\\packages\\pythonsoftwarefoundation.python.3.11_qbz5n2kfra8p0\\localcache\\local-packages\\python311\\site-packages (from Pylons>=1.0->helloworld) (3.0.2)\n",
      "Requirement already satisfied: WebOb>=1.1.1 in c:\\users\\lg\\appdata\\local\\packages\\pythonsoftwarefoundation.python.3.11_qbz5n2kfra8p0\\localcache\\local-packages\\python311\\site-packages (from Pylons>=1.0->helloworld) (1.8.9)\n",
      "Requirement already satisfied: setuptools in c:\\program files\\windowsapps\\pythonsoftwarefoundation.python.3.11_3.11.2544.0_x64__qbz5n2kfra8p0\\lib\\site-packages (from Paste>=1.7.5.1->Pylons>=1.0->helloworld) (65.5.0)\n",
      "Requirement already satisfied: six in c:\\users\\lg\\appdata\\local\\packages\\pythonsoftwarefoundation.python.3.11_qbz5n2kfra8p0\\localcache\\local-packages\\python311\\site-packages (from Routes>=1.12.3->Pylons>=1.0->helloworld) (1.17.0)\n",
      "Requirement already satisfied: repoze.lru>=0.3 in c:\\users\\lg\\appdata\\local\\packages\\pythonsoftwarefoundation.python.3.11_qbz5n2kfra8p0\\localcache\\local-packages\\python311\\site-packages (from Routes>=1.12.3->Pylons>=1.0->helloworld) (0.7)\n",
      "Requirement already satisfied: Pygments in c:\\users\\lg\\appdata\\local\\packages\\pythonsoftwarefoundation.python.3.11_qbz5n2kfra8p0\\localcache\\local-packages\\python311\\site-packages (from WebError>=0.10.3->Pylons>=1.0->helloworld) (2.18.0)\n",
      "Requirement already satisfied: waitress>=3.0.2 in c:\\users\\lg\\appdata\\local\\packages\\pythonsoftwarefoundation.python.3.11_qbz5n2kfra8p0\\localcache\\local-packages\\python311\\site-packages (from WebTest>=1.3.1->Pylons>=1.0->helloworld) (3.0.2)\n",
      "Requirement already satisfied: beautifulsoup4 in c:\\users\\lg\\appdata\\local\\packages\\pythonsoftwarefoundation.python.3.11_qbz5n2kfra8p0\\localcache\\local-packages\\python311\\site-packages (from WebTest>=1.3.1->Pylons>=1.0->helloworld) (4.12.3)\n",
      "Requirement already satisfied: soupsieve>1.2 in c:\\users\\lg\\appdata\\local\\packages\\pythonsoftwarefoundation.python.3.11_qbz5n2kfra8p0\\localcache\\local-packages\\python311\\site-packages (from beautifulsoup4->WebTest>=1.3.1->Pylons>=1.0->helloworld) (2.6)\n",
      "Note: you may need to restart the kernel to use updated packages.\n"
     ]
    },
    {
     "name": "stderr",
     "output_type": "stream",
     "text": [
      "\n",
      "[notice] A new release of pip is available: 24.0 -> 24.3.1\n",
      "[notice] To update, run: C:\\Users\\LG\\AppData\\Local\\Microsoft\\WindowsApps\\PythonSoftwareFoundation.Python.3.11_qbz5n2kfra8p0\\python.exe -m pip install --upgrade pip\n"
     ]
    }
   ],
   "source": [
    "pip install helloworld"
   ]
  },
  {
   "cell_type": "code",
   "execution_count": 2,
   "metadata": {},
   "outputs": [],
   "source": [
    "import helloworld"
   ]
  },
  {
   "cell_type": "code",
   "execution_count": 6,
   "metadata": {},
   "outputs": [
    {
     "name": "stdout",
     "output_type": "stream",
     "text": [
      "Available functions/classes in helloworld module:\n",
      "['__builtins__', '__cached__', '__doc__', '__file__', '__loader__', '__name__', '__package__', '__path__', '__spec__']\n",
      "\n",
      "Module documentation:\n",
      "Help on package helloworld:\n",
      "\n",
      "NAME\n",
      "    helloworld\n",
      "\n",
      "PACKAGE CONTENTS\n",
      "    config (package)\n",
      "    controllers (package)\n",
      "    lib (package)\n",
      "    model (package)\n",
      "    tests (package)\n",
      "    websetup\n",
      "\n",
      "FILE\n",
      "    c:\\users\\lg\\appdata\\local\\packages\\pythonsoftwarefoundation.python.3.11_qbz5n2kfra8p0\\localcache\\local-packages\\python311\\site-packages\\helloworld\\__init__.py\n",
      "\n",
      "\n",
      "None\n"
     ]
    }
   ],
   "source": [
    "# List all available functions/classes in the module\n",
    "print(\"Available functions/classes in helloworld module:\")\n",
    "print(dir(helloworld))\n",
    "\n",
    "# Print module documentation\n",
    "print(\"\\nModule documentation:\")\n",
    "print(help(helloworld))\n",
    "\n",
    "# Try to call a function that exists in the module\n",
    "# First check what functions are available from dir() output\n",
    "# Then use an actual function name instead of 'some_function'"
   ]
  },
  {
   "cell_type": "code",
   "execution_count": null,
   "metadata": {},
   "outputs": [],
   "source": []
  }
 ],
 "metadata": {
  "kernelspec": {
   "display_name": "Python 3",
   "language": "python",
   "name": "python3"
  },
  "language_info": {
   "codemirror_mode": {
    "name": "ipython",
    "version": 3
   },
   "file_extension": ".py",
   "mimetype": "text/x-python",
   "name": "python",
   "nbconvert_exporter": "python",
   "pygments_lexer": "ipython3",
   "version": "3.11.9"
  }
 },
 "nbformat": 4,
 "nbformat_minor": 2
}
