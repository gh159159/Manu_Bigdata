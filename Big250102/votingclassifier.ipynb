{
 "cells": [
  {
   "cell_type": "code",
   "execution_count": 2,
   "metadata": {},
   "outputs": [
    {
     "name": "stdout",
     "output_type": "stream",
     "text": [
      "앙상블 모델 테스트 정확도: 1.00\n"
     ]
    }
   ],
   "source": [
    "from sklearn.ensemble import VotingClassifier\n",
    "from sklearn.pipeline import Pipeline\n",
    "from sklearn.preprocessing import StandardScaler\n",
    "from sklearn.neighbors import KNeighborsClassifier\n",
    "from sklearn.svm import SVC\n",
    "from sklearn.ensemble import RandomForestClassifier\n",
    "from sklearn.model_selection import train_test_split\n",
    "from sklearn.datasets import load_iris\n",
    "\n",
    "# 데이터 로드\n",
    "iris = load_iris()\n",
    "X_train, X_test, y_train, y_test = train_test_split(iris.data, iris.target, test_size=0.2, random_state=42)\n",
    "\n",
    "# 파이프라인 구성\n",
    "pipeline = Pipeline([\n",
    "    ('scaler', StandardScaler()),  # 데이터 스케일링\n",
    "    ('knn', KNeighborsClassifier(n_neighbors=3))  # KNN 분류기\n",
    "])\n",
    "\n",
    "\n",
    "# 개별 모델 정의\n",
    "model1 = Pipeline([\n",
    "    ('scaler', StandardScaler()),\n",
    "    ('knn', KNeighborsClassifier(n_neighbors=3))\n",
    "])\n",
    "\n",
    "model2 = Pipeline([\n",
    "    ('scaler', StandardScaler()),\n",
    "    ('svm', SVC(kernel='rbf', C=1))\n",
    "])\n",
    "\n",
    "model3 = Pipeline([\n",
    "    ('scaler', StandardScaler()),\n",
    "    ('rf', RandomForestClassifier(n_estimators=100))\n",
    "])\n",
    "\n",
    "# VotingClassifier로 결합\n",
    "voting_clf = VotingClassifier(estimators=[\n",
    "    ('knn', model1),\n",
    "    ('svm', model2),\n",
    "    ('rf', model3)\n",
    "], voting='hard')\n",
    "\n",
    "# 학습 및 평가\n",
    "voting_clf.fit(X_train, y_train)\n",
    "accuracy = voting_clf.score(X_test, y_test)\n",
    "print(f\"앙상블 모델 테스트 정확도: {accuracy:.2f}\")\n"
   ]
  }
 ],
 "metadata": {
  "kernelspec": {
   "display_name": "Python 3",
   "language": "python",
   "name": "python3"
  },
  "language_info": {
   "codemirror_mode": {
    "name": "ipython",
    "version": 3
   },
   "file_extension": ".py",
   "mimetype": "text/x-python",
   "name": "python",
   "nbconvert_exporter": "python",
   "pygments_lexer": "ipython3",
   "version": "3.11.9"
  }
 },
 "nbformat": 4,
 "nbformat_minor": 2
}
