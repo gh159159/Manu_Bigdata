{
 "cells": [
  {
   "cell_type": "code",
   "execution_count": 1,
   "metadata": {},
   "outputs": [
    {
     "name": "stdout",
     "output_type": "stream",
     "text": [
      "테스트 데이터 정확도: 1.00\n"
     ]
    }
   ],
   "source": [
    "from sklearn.pipeline import Pipeline\n",
    "from sklearn.preprocessing import StandardScaler\n",
    "from sklearn.neighbors import KNeighborsClassifier\n",
    "from sklearn.model_selection import train_test_split\n",
    "from sklearn.datasets import load_iris\n",
    "\n",
    "# 데이터 로드\n",
    "iris = load_iris()\n",
    "X_train, X_test, y_train, y_test = train_test_split(iris.data, iris.target, test_size=0.2, random_state=42)\n",
    "\n",
    "# 파이프라인 구성\n",
    "pipeline = Pipeline([\n",
    "    ('scaler', StandardScaler()),  # 데이터 스케일링\n",
    "    ('knn', KNeighborsClassifier(n_neighbors=3))  # KNN 분류기\n",
    "])\n",
    "\n",
    "# 학습 및 평가\n",
    "pipeline.fit(X_train, y_train)  # fit 메서드 호출\n",
    "accuracy = pipeline.score(X_test, y_test)  # 평가 (정확도)\n",
    "print(f\"테스트 데이터 정확도: {accuracy:.2f}\")"
   ]
  }
 ],
 "metadata": {
  "kernelspec": {
   "display_name": "Python 3",
   "language": "python",
   "name": "python3"
  },
  "language_info": {
   "codemirror_mode": {
    "name": "ipython",
    "version": 3
   },
   "file_extension": ".py",
   "mimetype": "text/x-python",
   "name": "python",
   "nbconvert_exporter": "python",
   "pygments_lexer": "ipython3",
   "version": "3.11.9"
  }
 },
 "nbformat": 4,
 "nbformat_minor": 2
}
