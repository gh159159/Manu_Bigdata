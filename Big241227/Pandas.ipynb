{
 "cells": [
  {
   "cell_type": "code",
   "execution_count": 1,
   "metadata": {},
   "outputs": [
    {
     "name": "stdout",
     "output_type": "stream",
     "text": [
      "Requirement already satisfied: pandas in c:\\users\\lg\\appdata\\local\\packages\\pythonsoftwarefoundation.python.3.11_qbz5n2kfra8p0\\localcache\\local-packages\\python311\\site-packages (2.2.3)\n",
      "Requirement already satisfied: numpy>=1.23.2 in c:\\users\\lg\\appdata\\local\\packages\\pythonsoftwarefoundation.python.3.11_qbz5n2kfra8p0\\localcache\\local-packages\\python311\\site-packages (from pandas) (2.2.1)\n",
      "Requirement already satisfied: python-dateutil>=2.8.2 in c:\\users\\lg\\appdata\\local\\packages\\pythonsoftwarefoundation.python.3.11_qbz5n2kfra8p0\\localcache\\local-packages\\python311\\site-packages (from pandas) (2.9.0.post0)\n",
      "Requirement already satisfied: pytz>=2020.1 in c:\\users\\lg\\appdata\\local\\packages\\pythonsoftwarefoundation.python.3.11_qbz5n2kfra8p0\\localcache\\local-packages\\python311\\site-packages (from pandas) (2024.2)\n",
      "Requirement already satisfied: tzdata>=2022.7 in c:\\users\\lg\\appdata\\local\\packages\\pythonsoftwarefoundation.python.3.11_qbz5n2kfra8p0\\localcache\\local-packages\\python311\\site-packages (from pandas) (2024.2)\n",
      "Requirement already satisfied: six>=1.5 in c:\\users\\lg\\appdata\\local\\packages\\pythonsoftwarefoundation.python.3.11_qbz5n2kfra8p0\\localcache\\local-packages\\python311\\site-packages (from python-dateutil>=2.8.2->pandas) (1.17.0)\n",
      "Collecting pandas\n",
      "  Downloading pandas-2.2.3-cp311-cp311-win_amd64.whl.metadata (19 kB)\n",
      "Collecting numpy>=1.23.2 (from pandas)\n",
      "  Downloading numpy-2.2.1-cp311-cp311-win_amd64.whl.metadata (60 kB)\n",
      "     ---------------------------------------- 0.0/60.8 kB ? eta -:--:--\n",
      "     ---------------------------------------- 60.8/60.8 kB 1.6 MB/s eta 0:00:00\n",
      "Requirement already satisfied: python-dateutil>=2.8.2 in c:\\users\\gh159\\appdata\\local\\packages\\pythonsoftwarefoundation.python.3.11_qbz5n2kfra8p0\\localcache\\local-packages\\python311\\site-packages (from pandas) (2.9.0.post0)\n",
      "Collecting pytz>=2020.1 (from pandas)\n",
      "  Downloading pytz-2024.2-py2.py3-none-any.whl.metadata (22 kB)\n",
      "Collecting tzdata>=2022.7 (from pandas)\n",
      "  Downloading tzdata-2024.2-py2.py3-none-any.whl.metadata (1.4 kB)\n",
      "Requirement already satisfied: six>=1.5 in c:\\users\\gh159\\appdata\\local\\packages\\pythonsoftwarefoundation.python.3.11_qbz5n2kfra8p0\\localcache\\local-packages\\python311\\site-packages (from python-dateutil>=2.8.2->pandas) (1.17.0)\n",
      "Downloading pandas-2.2.3-cp311-cp311-win_amd64.whl (11.6 MB)\n",
      "   ---------------------------------------- 0.0/11.6 MB ? eta -:--:--\n",
      "   - -------------------------------------- 0.3/11.6 MB 10.6 MB/s eta 0:00:02\n",
      "   -- ------------------------------------- 0.8/11.6 MB 8.6 MB/s eta 0:00:02\n",
      "   ---- ----------------------------------- 1.2/11.6 MB 9.4 MB/s eta 0:00:02\n",
      "   ----- ---------------------------------- 1.7/11.6 MB 10.1 MB/s eta 0:00:01\n",
      "   ------- -------------------------------- 2.3/11.6 MB 10.5 MB/s eta 0:00:01\n",
      "   --------- ------------------------------ 2.9/11.6 MB 10.8 MB/s eta 0:00:01\n",
      "   ----------- ---------------------------- 3.3/11.6 MB 10.6 MB/s eta 0:00:01\n",
      "   ------------- -------------------------- 3.8/11.6 MB 10.6 MB/s eta 0:00:01\n",
      "   --------------- ------------------------ 4.4/11.6 MB 10.9 MB/s eta 0:00:01\n",
      "   ----------------- ---------------------- 5.0/11.6 MB 11.0 MB/s eta 0:00:01\n",
      "   ------------------- -------------------- 5.6/11.6 MB 11.1 MB/s eta 0:00:01\n",
      "   --------------------- ------------------ 6.1/11.6 MB 11.2 MB/s eta 0:00:01\n",
      "   ----------------------- ---------------- 6.7/11.6 MB 11.0 MB/s eta 0:00:01\n",
      "   ------------------------- -------------- 7.3/11.6 MB 11.1 MB/s eta 0:00:01\n",
      "   --------------------------- ------------ 7.8/11.6 MB 11.1 MB/s eta 0:00:01\n",
      "   ---------------------------- ----------- 8.4/11.6 MB 11.2 MB/s eta 0:00:01\n",
      "   ------------------------------ --------- 9.0/11.6 MB 11.3 MB/s eta 0:00:01\n",
      "   -------------------------------- ------- 9.4/11.6 MB 11.1 MB/s eta 0:00:01\n",
      "   ---------------------------------- ----- 9.9/11.6 MB 11.3 MB/s eta 0:00:01\n",
      "   ------------------------------------ --- 10.5/11.6 MB 11.3 MB/s eta 0:00:01\n",
      "   -------------------------------------- - 11.0/11.6 MB 11.5 MB/s eta 0:00:01\n",
      "   ---------------------------------------  11.6/11.6 MB 11.5 MB/s eta 0:00:01\n",
      "   ---------------------------------------- 11.6/11.6 MB 10.9 MB/s eta 0:00:00\n",
      "Downloading numpy-2.2.1-cp311-cp311-win_amd64.whl (12.9 MB)\n",
      "   ---------------------------------------- 0.0/12.9 MB ? eta -:--:--\n",
      "   - -------------------------------------- 0.6/12.9 MB 12.0 MB/s eta 0:00:02\n",
      "   --- ------------------------------------ 1.1/12.9 MB 13.9 MB/s eta 0:00:01\n",
      "   ----- ---------------------------------- 1.7/12.9 MB 12.0 MB/s eta 0:00:01\n",
      "   ------- -------------------------------- 2.3/12.9 MB 12.0 MB/s eta 0:00:01\n",
      "   -------- ------------------------------- 2.8/12.9 MB 12.0 MB/s eta 0:00:01\n",
      "   ---------- ----------------------------- 3.3/12.9 MB 11.6 MB/s eta 0:00:01\n",
      "   ----------- ---------------------------- 3.8/12.9 MB 11.5 MB/s eta 0:00:01\n",
      "   ------------- -------------------------- 4.4/12.9 MB 11.6 MB/s eta 0:00:01\n",
      "   --------------- ------------------------ 4.9/12.9 MB 11.6 MB/s eta 0:00:01\n",
      "   ---------------- ----------------------- 5.5/12.9 MB 11.7 MB/s eta 0:00:01\n",
      "   ------------------ --------------------- 6.1/12.9 MB 11.4 MB/s eta 0:00:01\n",
      "   -------------------- ------------------- 6.6/12.9 MB 11.5 MB/s eta 0:00:01\n",
      "   ---------------------- ----------------- 7.2/12.9 MB 11.5 MB/s eta 0:00:01\n",
      "   ------------------------ --------------- 7.8/12.9 MB 11.3 MB/s eta 0:00:01\n",
      "   ------------------------- -------------- 8.3/12.9 MB 11.6 MB/s eta 0:00:01\n",
      "   --------------------------- ------------ 8.9/12.9 MB 11.6 MB/s eta 0:00:01\n",
      "   ---------------------------- ----------- 9.3/12.9 MB 11.4 MB/s eta 0:00:01\n",
      "   ------------------------------ --------- 9.8/12.9 MB 11.4 MB/s eta 0:00:01\n",
      "   -------------------------------- ------- 10.4/12.9 MB 11.3 MB/s eta 0:00:01\n",
      "   --------------------------------- ------ 11.0/12.9 MB 11.5 MB/s eta 0:00:01\n",
      "   ----------------------------------- ---- 11.5/12.9 MB 11.3 MB/s eta 0:00:01\n",
      "   ------------------------------------- -- 12.1/12.9 MB 11.3 MB/s eta 0:00:01\n",
      "   ---------------------------------------  12.7/12.9 MB 11.3 MB/s eta 0:00:01\n",
      "   ---------------------------------------  12.9/12.9 MB 11.3 MB/s eta 0:00:01\n",
      "   ---------------------------------------- 12.9/12.9 MB 10.9 MB/s eta 0:00:00\n",
      "Downloading pytz-2024.2-py2.py3-none-any.whl (508 kB)\n",
      "   ---------------------------------------- 0.0/508.0 kB ? eta -:--:--\n",
      "   ----------------------------------- ---- 450.6/508.0 kB 9.4 MB/s eta 0:00:01\n",
      "   --------------------------------------- 508.0/508.0 kB 10.6 MB/s eta 0:00:00\n",
      "Downloading tzdata-2024.2-py2.py3-none-any.whl (346 kB)\n",
      "   ---------------------------------------- 0.0/346.6 kB ? eta -:--:--\n",
      "   --------------------------------------- 346.6/346.6 kB 10.5 MB/s eta 0:00:00\n",
      "Installing collected packages: pytz, tzdata, numpy, pandas\n",
      "Successfully installed numpy-2.2.1 pandas-2.2.3 pytz-2024.2 tzdata-2024.2\n",
      "Note: you may need to restart the kernel to use updated packages.\n"
     ]
    },
    {
     "name": "stderr",
     "output_type": "stream",
     "text": [
      "\n",
      "[notice] A new release of pip is available: 24.0 -> 24.3.1\n",
      "[notice] To update, run: C:\\Users\\LG\\AppData\\Local\\Microsoft\\WindowsApps\\PythonSoftwareFoundation.Python.3.11_qbz5n2kfra8p0\\python.exe -m pip install --upgrade pip\n",
      "[notice] To update, run: C:\\Users\\gh159\\AppData\\Local\\Microsoft\\WindowsApps\\PythonSoftwareFoundation.Python.3.11_qbz5n2kfra8p0\\python.exe -m pip install --upgrade pip\n"
     ]
    }
   ],
   "source": [
    "pip install pandas"
   ]
  },
  {
   "cell_type": "code",
   "execution_count": 2,
   "metadata": {},
   "outputs": [
    {
     "name": "stdout",
     "output_type": "stream",
     "text": [
      "Requirement already satisfied: matplotlib in c:\\users\\lg\\appdata\\local\\packages\\pythonsoftwarefoundation.python.3.11_qbz5n2kfra8p0\\localcache\\local-packages\\python311\\site-packages (3.10.0)\n",
      "Requirement already satisfied: contourpy>=1.0.1 in c:\\users\\lg\\appdata\\local\\packages\\pythonsoftwarefoundation.python.3.11_qbz5n2kfra8p0\\localcache\\local-packages\\python311\\site-packages (from matplotlib) (1.3.1)\n",
      "Requirement already satisfied: cycler>=0.10 in c:\\users\\lg\\appdata\\local\\packages\\pythonsoftwarefoundation.python.3.11_qbz5n2kfra8p0\\localcache\\local-packages\\python311\\site-packages (from matplotlib) (0.12.1)\n",
      "Requirement already satisfied: fonttools>=4.22.0 in c:\\users\\lg\\appdata\\local\\packages\\pythonsoftwarefoundation.python.3.11_qbz5n2kfra8p0\\localcache\\local-packages\\python311\\site-packages (from matplotlib) (4.55.3)\n",
      "Requirement already satisfied: kiwisolver>=1.3.1 in c:\\users\\lg\\appdata\\local\\packages\\pythonsoftwarefoundation.python.3.11_qbz5n2kfra8p0\\localcache\\local-packages\\python311\\site-packages (from matplotlib) (1.4.8)\n",
      "Requirement already satisfied: numpy>=1.23 in c:\\users\\lg\\appdata\\local\\packages\\pythonsoftwarefoundation.python.3.11_qbz5n2kfra8p0\\localcache\\local-packages\\python311\\site-packages (from matplotlib) (2.2.1)\n",
      "Requirement already satisfied: packaging>=20.0 in c:\\users\\lg\\appdata\\local\\packages\\pythonsoftwarefoundation.python.3.11_qbz5n2kfra8p0\\localcache\\local-packages\\python311\\site-packages (from matplotlib) (24.2)\n",
      "Requirement already satisfied: pillow>=8 in c:\\users\\lg\\appdata\\local\\packages\\pythonsoftwarefoundation.python.3.11_qbz5n2kfra8p0\\localcache\\local-packages\\python311\\site-packages (from matplotlib) (11.0.0)\n",
      "Requirement already satisfied: pyparsing>=2.3.1 in c:\\users\\lg\\appdata\\local\\packages\\pythonsoftwarefoundation.python.3.11_qbz5n2kfra8p0\\localcache\\local-packages\\python311\\site-packages (from matplotlib) (3.2.0)\n",
      "Requirement already satisfied: python-dateutil>=2.7 in c:\\users\\lg\\appdata\\local\\packages\\pythonsoftwarefoundation.python.3.11_qbz5n2kfra8p0\\localcache\\local-packages\\python311\\site-packages (from matplotlib) (2.9.0.post0)\n",
      "Requirement already satisfied: six>=1.5 in c:\\users\\lg\\appdata\\local\\packages\\pythonsoftwarefoundation.python.3.11_qbz5n2kfra8p0\\localcache\\local-packages\\python311\\site-packages (from python-dateutil>=2.7->matplotlib) (1.17.0)\n",
      "Collecting matplotlib\n",
      "  Downloading matplotlib-3.10.0-cp311-cp311-win_amd64.whl.metadata (11 kB)\n",
      "Collecting contourpy>=1.0.1 (from matplotlib)\n",
      "  Downloading contourpy-1.3.1-cp311-cp311-win_amd64.whl.metadata (5.4 kB)\n",
      "Collecting cycler>=0.10 (from matplotlib)\n",
      "  Downloading cycler-0.12.1-py3-none-any.whl.metadata (3.8 kB)\n",
      "Collecting fonttools>=4.22.0 (from matplotlib)\n",
      "  Downloading fonttools-4.55.3-cp311-cp311-win_amd64.whl.metadata (168 kB)\n",
      "     ---------------------------------------- 0.0/168.5 kB ? eta -:--:--\n",
      "     ------------------------------------ - 163.8/168.5 kB 3.3 MB/s eta 0:00:01\n",
      "     -------------------------------------- 168.5/168.5 kB 2.5 MB/s eta 0:00:00\n",
      "Collecting kiwisolver>=1.3.1 (from matplotlib)\n",
      "  Downloading kiwisolver-1.4.8-cp311-cp311-win_amd64.whl.metadata (6.3 kB)\n",
      "Requirement already satisfied: numpy>=1.23 in c:\\users\\gh159\\appdata\\local\\packages\\pythonsoftwarefoundation.python.3.11_qbz5n2kfra8p0\\localcache\\local-packages\\python311\\site-packages (from matplotlib) (2.2.1)\n",
      "Requirement already satisfied: packaging>=20.0 in c:\\users\\gh159\\appdata\\local\\packages\\pythonsoftwarefoundation.python.3.11_qbz5n2kfra8p0\\localcache\\local-packages\\python311\\site-packages (from matplotlib) (24.2)\n",
      "Collecting pillow>=8 (from matplotlib)\n",
      "  Downloading pillow-11.0.0-cp311-cp311-win_amd64.whl.metadata (9.3 kB)\n",
      "Collecting pyparsing>=2.3.1 (from matplotlib)\n",
      "  Downloading pyparsing-3.2.0-py3-none-any.whl.metadata (5.0 kB)\n",
      "Requirement already satisfied: python-dateutil>=2.7 in c:\\users\\gh159\\appdata\\local\\packages\\pythonsoftwarefoundation.python.3.11_qbz5n2kfra8p0\\localcache\\local-packages\\python311\\site-packages (from matplotlib) (2.9.0.post0)\n",
      "Requirement already satisfied: six>=1.5 in c:\\users\\gh159\\appdata\\local\\packages\\pythonsoftwarefoundation.python.3.11_qbz5n2kfra8p0\\localcache\\local-packages\\python311\\site-packages (from python-dateutil>=2.7->matplotlib) (1.17.0)\n",
      "Downloading matplotlib-3.10.0-cp311-cp311-win_amd64.whl (8.0 MB)\n",
      "   ---------------------------------------- 0.0/8.0 MB ? eta -:--:--\n",
      "   - -------------------------------------- 0.3/8.0 MB 5.2 MB/s eta 0:00:02\n",
      "   --- ------------------------------------ 0.7/8.0 MB 6.9 MB/s eta 0:00:02\n",
      "   ----- ---------------------------------- 1.2/8.0 MB 8.1 MB/s eta 0:00:01\n",
      "   ------- -------------------------------- 1.6/8.0 MB 9.0 MB/s eta 0:00:01\n",
      "   ---------- ----------------------------- 2.1/8.0 MB 9.5 MB/s eta 0:00:01\n",
      "   ------------ --------------------------- 2.5/8.0 MB 9.4 MB/s eta 0:00:01\n",
      "   -------------- ------------------------- 3.0/8.0 MB 10.0 MB/s eta 0:00:01\n",
      "   ----------------- ---------------------- 3.6/8.0 MB 10.3 MB/s eta 0:00:01\n",
      "   -------------------- ------------------- 4.1/8.0 MB 10.5 MB/s eta 0:00:01\n",
      "   ----------------------- ---------------- 4.7/8.0 MB 10.3 MB/s eta 0:00:01\n",
      "   ------------------------- -------------- 5.2/8.0 MB 10.4 MB/s eta 0:00:01\n",
      "   ---------------------------- ----------- 5.7/8.0 MB 10.4 MB/s eta 0:00:01\n",
      "   ------------------------------ --------- 6.1/8.0 MB 10.5 MB/s eta 0:00:01\n",
      "   -------------------------------- ------- 6.6/8.0 MB 10.8 MB/s eta 0:00:01\n",
      "   ----------------------------------- ---- 7.1/8.0 MB 10.6 MB/s eta 0:00:01\n",
      "   -------------------------------------- - 7.7/8.0 MB 10.7 MB/s eta 0:00:01\n",
      "   ---------------------------------------  8.0/8.0 MB 10.7 MB/s eta 0:00:01\n",
      "   ---------------------------------------- 8.0/8.0 MB 10.3 MB/s eta 0:00:00\n",
      "Downloading contourpy-1.3.1-cp311-cp311-win_amd64.whl (219 kB)\n",
      "   ---------------------------------------- 0.0/219.8 kB ? eta -:--:--\n",
      "   ---------------------------------------- 219.8/219.8 kB 6.5 MB/s eta 0:00:00\n",
      "Downloading cycler-0.12.1-py3-none-any.whl (8.3 kB)\n",
      "Downloading fonttools-4.55.3-cp311-cp311-win_amd64.whl (2.2 MB)\n",
      "   ---------------------------------------- 0.0/2.2 MB ? eta -:--:--\n",
      "   -- ------------------------------------- 0.1/2.2 MB 7.5 MB/s eta 0:00:01\n",
      "   ---- ----------------------------------- 0.3/2.2 MB 4.1 MB/s eta 0:00:01\n",
      "   ---------- ----------------------------- 0.6/2.2 MB 5.1 MB/s eta 0:00:01\n",
      "   ----------------- ---------------------- 1.0/2.2 MB 6.2 MB/s eta 0:00:01\n",
      "   -------------------------- ------------- 1.5/2.2 MB 7.8 MB/s eta 0:00:01\n",
      "   ------------------------------------ --- 2.0/2.2 MB 8.0 MB/s eta 0:00:01\n",
      "   ---------------------------------------  2.2/2.2 MB 8.3 MB/s eta 0:00:01\n",
      "   ---------------------------------------- 2.2/2.2 MB 7.4 MB/s eta 0:00:00\n",
      "Downloading kiwisolver-1.4.8-cp311-cp311-win_amd64.whl (71 kB)\n",
      "   ---------------------------------------- 0.0/72.0 kB ? eta -:--:--\n",
      "   ---------------------------------------- 72.0/72.0 kB 4.1 MB/s eta 0:00:00\n",
      "Downloading pillow-11.0.0-cp311-cp311-win_amd64.whl (2.6 MB)\n",
      "   ---------------------------------------- 0.0/2.6 MB ? eta -:--:--\n",
      "   ------- -------------------------------- 0.5/2.6 MB 14.2 MB/s eta 0:00:01\n",
      "   --------------- ------------------------ 1.0/2.6 MB 12.5 MB/s eta 0:00:01\n",
      "   ----------------------- ---------------- 1.5/2.6 MB 12.0 MB/s eta 0:00:01\n",
      "   ----------------------------- ---------- 1.9/2.6 MB 12.2 MB/s eta 0:00:01\n",
      "   ------------------------------------ --- 2.3/2.6 MB 11.5 MB/s eta 0:00:01\n",
      "   ---------------------------------------- 2.6/2.6 MB 10.9 MB/s eta 0:00:00\n",
      "Downloading pyparsing-3.2.0-py3-none-any.whl (106 kB)\n",
      "   ---------------------------------------- 0.0/106.9 kB ? eta -:--:--\n",
      "   ---------------------------------------- 106.9/106.9 kB 6.4 MB/s eta 0:00:00\n",
      "Installing collected packages: pyparsing, pillow, kiwisolver, fonttools, cycler, contourpy, matplotlib\n",
      "Successfully installed contourpy-1.3.1 cycler-0.12.1 fonttools-4.55.3 kiwisolver-1.4.8 matplotlib-3.10.0 pillow-11.0.0 pyparsing-3.2.0\n",
      "Note: you may need to restart the kernel to use updated packages.\n"
     ]
    },
    {
     "name": "stderr",
     "output_type": "stream",
     "text": [
      "\n",
      "[notice] A new release of pip is available: 24.0 -> 24.3.1\n",
      "[notice] To update, run: C:\\Users\\LG\\AppData\\Local\\Microsoft\\WindowsApps\\PythonSoftwareFoundation.Python.3.11_qbz5n2kfra8p0\\python.exe -m pip install --upgrade pip\n",
      "[notice] To update, run: C:\\Users\\gh159\\AppData\\Local\\Microsoft\\WindowsApps\\PythonSoftwareFoundation.Python.3.11_qbz5n2kfra8p0\\python.exe -m pip install --upgrade pip\n"
     ]
    }
   ],
   "source": [
    "pip install matplotlib"
   ]
  },
  {
   "cell_type": "code",
   "execution_count": 5,
   "metadata": {},
   "outputs": [
    {
     "data": {
      "image/png": "[encoded data removed]",
      "text/plain": [
       "<Figure size 1000x600 with 1 Axes>"
      ]
     },
     "metadata": {},
     "output_type": "display_data"
    }
   ],
   "source": [
    "# ... pip install 부분 생략 ...\n",
    "\n",
    "import pandas as pd\n",
    "import matplotlib.pyplot as plt\n",
    "\n",
    "# 1. 데이터 준비\n",
    "try:\n",
    "    df = pd.read_csv('Big241227.csv', encoding='utf-8')  # encoding 파라미터 추가\n",
    "except FileNotFoundError:\n",
    "    print(\"데이터 파일을 찾을 수 없습니다. 파일 경로를 확인해주세요.\")\n",
    "    exit()\n",
    "\n",
    "# 2. 데이터 처리\n",
    "df['date'] = pd.to_datetime(df['date'])\n",
    "df.set_index('date', inplace=True)\n",
    "monthly_data = df.resample('ME').sum()  # 'M' 대신 'ME' 사용\n",
    "\n",
    "# 3. 데이터 시각화\n",
    "plt.figure(figsize=(10, 6))\n",
    "plt.plot(monthly_data.index, monthly_data['value'], marker='o')\n",
    "plt.title('Monthly Data')\n",
    "plt.xlabel('Date')\n",
    "plt.ylabel('Value')\n",
    "plt.grid(True)\n",
    "plt.xticks(rotation=45)  # x축 레이블 회전\n",
    "plt.tight_layout()  # 레이아웃 조정\n",
    "plt.show()"
   ]
  },
  {
   "cell_type": "code",
   "execution_count": 6,
   "metadata": {},
   "outputs": [
    {
     "name": "stdout",
     "output_type": "stream",
     "text": [
      "   사원번호   이름  나이               부서        등록날짜\n",
      "0  2318  장영일  35  신발제조기 조작원 및 조립원  2020-07-27\n",
      "1  6741  김영식  50   의복/가죽 및 모피 수선원  2022-08-22\n",
      "2  4275  조상현  33      상품중개인 및 경매사  2023-01-26\n",
      "3  8954  나성민  23           건설 배관공  2021-09-29\n",
      "4  7347  김예원  58       섬유제조 기계조작원  2022-04-19\n"
     ]
    }
   ],
   "source": [
    "import pandas as pd\n",
    "\n",
    "# CSV 파일에서 데이터 읽기\n",
    "df = pd.read_csv('employee_data.csv')\n",
    "print(df.head())  # 데이터의 처음 5행을 출력\n",
    "\n",
    "\n",
    "# CSV 파일로 쓰기\n",
    "#index=False 는 인덱스 열을 포함시키지 않겠다는 의미.\n",
    "df.to_csv('output.csv', index=False)"
   ]
  },
  {
   "cell_type": "code",
   "execution_count": 7,
   "metadata": {},
   "outputs": [
    {
     "name": "stdout",
     "output_type": "stream",
     "text": [
      "<class 'pandas.core.frame.DataFrame'>\n",
      "RangeIndex: 100 entries, 0 to 99\n",
      "Data columns (total 5 columns):\n",
      " #   Column  Non-Null Count  Dtype \n",
      "---  ------  --------------  ----- \n",
      " 0   사원번호    100 non-null    int64 \n",
      " 1   이름      100 non-null    object\n",
      " 2   나이      100 non-null    int64 \n",
      " 3   부서      99 non-null     object\n",
      " 4   등록날짜    100 non-null    object\n",
      "dtypes: int64(2), object(3)\n",
      "memory usage: 4.0+ KB\n",
      "None\n",
      "             사원번호          나이\n",
      "count   100.00000  100.000000\n",
      "mean   5599.02000   41.750000\n",
      "std    2599.34013   12.777328\n",
      "min    1027.00000   22.000000\n",
      "25%    3475.25000   31.000000\n",
      "50%    5803.00000   42.000000\n",
      "75%    7526.00000   52.000000\n",
      "max    9951.00000   65.000000\n"
     ]
    }
   ],
   "source": [
    "# 데이터프레임의 정보 확인\n",
    "print(df.info())\n",
    "\n",
    "# 통계 요약 정보\n",
    "print(df.describe())"
   ]
  },
  {
   "cell_type": "code",
   "execution_count": 8,
   "metadata": {},
   "outputs": [
    {
     "name": "stdout",
     "output_type": "stream",
     "text": [
      "0    장영일\n",
      "1    김영식\n",
      "2    조상현\n",
      "3    나성민\n",
      "4    김예원\n",
      "Name: 이름, dtype: object\n",
      "   사원번호   이름  나이               부서        등록날짜\n",
      "0  2318  장영일  35  신발제조기 조작원 및 조립원  2020-07-27\n",
      "1  6741  김영식  50   의복/가죽 및 모피 수선원  2022-08-22\n",
      "2  4275  조상현  33      상품중개인 및 경매사  2023-01-26\n",
      "4  7347  김예원  58       섬유제조 기계조작원  2022-04-19\n",
      "5  4258  장지우  64     조적공 및 석재 부설원  2024-02-18\n"
     ]
    }
   ],
   "source": [
    "# 특정 열 선택\n",
    "names = df['이름']\n",
    "print(names.head())\n",
    "\n",
    "# 특정 행 선택 (인덱스로) 0이 첫번째 행.\n",
    "first_row = df.iloc[0]\n",
    "\n",
    "# 조건을 이용한 필터링\n",
    "older_than_30 = df[df['나이'] > 30]\n",
    "print(older_than_30.head())"
   ]
  },
  {
   "cell_type": "code",
   "execution_count": 9,
   "metadata": {},
   "outputs": [
    {
     "name": "stdout",
     "output_type": "stream",
     "text": [
      "    사원번호   이름  나이             부서        등록날짜\n",
      "19  6808  엄상호  22   보험 심사원 및 사무원  2024-06-13\n",
      "97  6377  김정희  22            주조원  2021-12-13\n",
      "73  1438  이준영  23      법무사 및 집행관  2024-06-06\n",
      "3   8954  나성민  23         건설 배관공  2021-09-29\n",
      "90  5918  김영환  23  영상/녹화 및 편집 기사  2022-07-08\n",
      "    사원번호   이름  나이            부서        등록날짜\n",
      "82  1111  박동현  27   음식서비스관련 관리자  2024-06-29\n",
      "17  5048  김영환  25   제품 생산관련 관리자  2024-06-15\n",
      "19  6808  엄상호  22  보험 심사원 및 사무원  2024-06-13\n",
      "70  8704  안진호  36        해외 영업원  2024-06-13\n",
      "73  1438  이준영  23     법무사 및 집행관  2024-06-06\n"
     ]
    }
   ],
   "source": [
    "# 나이 기준으로 정렬\n",
    "sorted_df = df.sort_values(by='나이')\n",
    "print(sorted_df.head())\n",
    "\n",
    "# 등록날짜 기준으로 내림차순 정렬\n",
    "sorted_df_desc = df.sort_values(by='등록날짜', ascending=False)\n",
    "print(sorted_df_desc.head())\n"
   ]
  },
  {
   "cell_type": "code",
   "execution_count": 10,
   "metadata": {},
   "outputs": [
    {
     "name": "stdout",
     "output_type": "stream",
     "text": [
      "부서\n",
      "간병인                  41.0\n",
      "감독 및 기술감독            36.0\n",
      "강구조물 가공원 및 건립원       30.0\n",
      "건설 및 광업 단순 종사원       46.0\n",
      "건설 배관공               23.0\n",
      "                     ... \n",
      "하역 및 적재 단순 종사원       53.0\n",
      "해외 영업원               36.0\n",
      "화학제품 생산기 조작원         51.0\n",
      "환경 미화원 및 재활용품 수거원    31.0\n",
      "환경공학 시험원             65.0\n",
      "Name: 나이, Length: 93, dtype: float64\n"
     ]
    }
   ],
   "source": [
    "# 부서별로 그룹화하여 나이의 평균 계산\n",
    "grouped_df = df.groupby('부서')['나이'].mean()\n",
    "print(grouped_df)"
   ]
  },
  {
   "cell_type": "code",
   "execution_count": 11,
   "metadata": {},
   "outputs": [
    {
     "name": "stdout",
     "output_type": "stream",
     "text": [
      "사원번호    0\n",
      "이름      0\n",
      "나이      0\n",
      "부서      1\n",
      "등록날짜    0\n",
      "dtype: int64\n"
     ]
    },
    {
     "name": "stderr",
     "output_type": "stream",
     "text": [
      "C:\\Users\\LG\\AppData\\Local\\Temp\\ipykernel_19012\\1843886633.py:5: FutureWarning: A value is trying to be set on a copy of a DataFrame or Series through chained assignment using an inplace method.\n",
      "The behavior will change in pandas 3.0. This inplace method will never work because the intermediate object on which we are setting values always behaves as a copy.\n",
      "\n",
      "For example, when doing 'df[col].method(value, inplace=True)', try using 'df.method({col: value}, inplace=True)' or df[col] = df[col].method(value) instead, to perform the operation inplace on the original object.\n",
      "\n",
      "\n",
      "  df['나이'].fillna(df['나이'].mean(), inplace=True)\n"
     ]
    }
   ],
   "source": [
    "# 결측치 확인\n",
    "print(df.isnull().sum());\n",
    "\n",
    "# 결측치 채우기 fillna 함수 이용(예: 나이의 결측치를 평균 나이로 채우기)\n",
    "df['나이'].fillna(df['나이'].mean(), inplace=True)\n",
    "\n",
    "\n",
    "# 결측치가 있는 행 제거\n",
    "df_dropped = df.dropna()"
   ]
  },
  {
   "cell_type": "code",
   "execution_count": 12,
   "metadata": {},
   "outputs": [
    {
     "name": "stdout",
     "output_type": "stream",
     "text": [
      "   사원번호   이름  나이               부서        등록날짜     연령대\n",
      "0  2318  장영일  35  신발제조기 조작원 및 조립원  2020-07-27     30대\n",
      "1  6741  김영식  50   의복/가죽 및 모피 수선원  2022-08-22  40대 이상\n",
      "2  4275  조상현  33      상품중개인 및 경매사  2023-01-26     30대\n",
      "3  8954  나성민  23           건설 배관공  2021-09-29  30대 이하\n",
      "4  7347  김예원  58       섬유제조 기계조작원  2022-04-19  40대 이상\n",
      "   사원번호   이름  나이               부서        등록날짜\n",
      "0  2318  장영일  35  신발제조기 조작원 및 조립원  2020-07-27\n",
      "1  6741  김영식  50   의복/가죽 및 모피 수선원  2022-08-22\n",
      "2  4275  조상현  33      상품중개인 및 경매사  2023-01-26\n",
      "3  8954  나성민  23           건설 배관공  2021-09-29\n",
      "4  7347  김예원  58       섬유제조 기계조작원  2022-04-19\n",
      "   사원번호   이름  나이            부서        등록날짜\n",
      "2  4275  조상현  33   상품중개인 및 경매사  2023-01-26\n",
      "3  8954  나성민  23        건설 배관공  2021-09-29\n",
      "4  7347  김예원  58    섬유제조 기계조작원  2022-04-19\n",
      "5  4258  장지우  64  조적공 및 석재 부설원  2024-02-18\n",
      "6  7131  장준혁  24   경영 및 진단 전문가  2020-01-19\n"
     ]
    }
   ],
   "source": [
    "# 새로운 열 추가\n",
    "df['연령대'] = df['나이'].apply(lambda x: '30대' if 30 <= x < 40 else '30대 이하' if x < 30 else '40대 이상')\n",
    "print(df.head())\n",
    "\n",
    "# 열 삭제\n",
    "df.drop(columns=['연령대'], inplace=True)\n",
    "print(df.head())\n",
    "\n",
    "# 행 삭제\n",
    "df.drop(index=[0, 1], inplace=True)  # 첫 두 행 삭제\n",
    "print(df.head())\n"
   ]
  },
  {
   "cell_type": "code",
   "execution_count": 13,
   "metadata": {},
   "outputs": [],
   "source": [
    "# 수정된 데이터를 다시 CSV 파일로 저장\n",
    "df.to_csv('modified_employee_data.csv', index=False)\n",
    "\n",
    "# JSON 파일로 저장\n",
    "df.to_json('modified_employee_data.json', orient='records', force_ascii=False, date_format='iso')"
   ]
  }
 ],
 "metadata": {
  "kernelspec": {
   "display_name": "Python 3",
   "language": "python",
   "name": "python3"
  },
  "language_info": {
   "codemirror_mode": {
    "name": "ipython",
    "version": 3
   },
   "file_extension": ".py",
   "mimetype": "text/x-python",
   "name": "python",
   "nbconvert_exporter": "python",
   "pygments_lexer": "ipython3",
   "version": "3.11.9"
  }
 },
 "nbformat": 4,
 "nbformat_minor": 2
}
